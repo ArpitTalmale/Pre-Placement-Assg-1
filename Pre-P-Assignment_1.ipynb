{
 "cells": [
  {
   "cell_type": "markdown",
   "id": "7f704222",
   "metadata": {},
   "source": [
    "### 1. Write a Python program to reverse a string without using any built-in string reversal functions."
   ]
  },
  {
   "cell_type": "code",
   "execution_count": 1,
   "id": "b0462a26",
   "metadata": {},
   "outputs": [
    {
     "name": "stdout",
     "output_type": "stream",
     "text": [
      "Given list is:- ineuron\n",
      "The reversed string is:- norueni\n"
     ]
    }
   ],
   "source": [
    "#Solution:-\n",
    "\n",
    "def rev(a):\n",
    "    print(\"Given list is:-\",a)\n",
    "    print(\"The reversed string is:-\",a[::-1])\n",
    "a = \"ineuron\"\n",
    "rev(a)\n",
    "    "
   ]
  },
  {
   "cell_type": "markdown",
   "id": "6f6d83ed",
   "metadata": {},
   "source": [
    "### 2. Implement a function to check if a given string is a palindrome"
   ]
  },
  {
   "cell_type": "code",
   "execution_count": 4,
   "id": "458369df",
   "metadata": {},
   "outputs": [
    {
     "name": "stdout",
     "output_type": "stream",
     "text": [
      "Given string is:- malayalam\n",
      "The given string malayalam is palindrome\n",
      "Given string is:- ineuron\n",
      "The given string is ineuron is not palindrome\n"
     ]
    }
   ],
   "source": [
    "#Solution:-\n",
    "\n",
    "def palin(a):\n",
    "    print(\"Given string is:-\",a)\n",
    "    b = a[::-1]\n",
    "    if b == a:\n",
    "        print(f\"The given string {a} is palindrome\")\n",
    "    else:\n",
    "        print(f\"The given string is {a} is not palindrome\")\n",
    "a = \"malayalam\" \n",
    "palin(a) \n",
    "\n",
    "a = \"ineuron\"\n",
    "palin(a)\n",
    "              "
   ]
  },
  {
   "cell_type": "markdown",
   "id": "2f76791b",
   "metadata": {},
   "source": [
    "### 3. Write a program to find the largest element in a given list. "
   ]
  },
  {
   "cell_type": "code",
   "execution_count": 5,
   "id": "d8af18e1",
   "metadata": {},
   "outputs": [
    {
     "name": "stdout",
     "output_type": "stream",
     "text": [
      "Given list is: [100, 50, 500, 200]\n",
      "The largest element in a given list is :- 500\n"
     ]
    }
   ],
   "source": [
    "#Solution:-\n",
    "\n",
    "def largets(a):\n",
    "    print(\"Given list is:\",a)\n",
    "    print(\"The largest element in a given list is :-\",max(a))\n",
    "a = [100,50,500,200]\n",
    "largets(a)\n"
   ]
  },
  {
   "cell_type": "markdown",
   "id": "b8d2a351",
   "metadata": {},
   "source": [
    "### 4. Implement a function to count the occurrence of each element in a list."
   ]
  },
  {
   "cell_type": "code",
   "execution_count": 8,
   "id": "31d05c4a",
   "metadata": {},
   "outputs": [
    {
     "name": "stdout",
     "output_type": "stream",
     "text": [
      "The count of each element in list is {2: 3, 1: 3, 3: 2, 4: 1, 5: 1}\n"
     ]
    }
   ],
   "source": [
    "#Solution:-\n",
    "\n",
    "def occure(a):\n",
    "    dict_1 = {}\n",
    "    for ele in a:\n",
    "        if ele in dict_1:\n",
    "            dict_1[ele] += 1\n",
    "        else:\n",
    "            dict_1[ele] = 1\n",
    "    print(f\"The count of each element in list is {dict_1}\")\n",
    "    \n",
    "a = [2,1,1,2,3,4,5,3,2,1]\n",
    "occure(a)"
   ]
  },
  {
   "cell_type": "markdown",
   "id": "a6aed3f7",
   "metadata": {},
   "source": [
    "### 5. Write a Python program to find the second largest number in a list."
   ]
  },
  {
   "cell_type": "code",
   "execution_count": 15,
   "id": "1bef63b3",
   "metadata": {},
   "outputs": [
    {
     "name": "stdout",
     "output_type": "stream",
     "text": [
      "The second largest number is 200\n"
     ]
    }
   ],
   "source": [
    "#Solution:-\n",
    "\n",
    "def sec_lar(a):\n",
    "    print(f\"The second largest number is {sorted(a)[-2]}\")\n",
    "\n",
    "a = [100,50,500,200] \n",
    "sec_lar(a)         "
   ]
  },
  {
   "cell_type": "markdown",
   "id": "5bef6174",
   "metadata": {},
   "source": [
    "### 6. Implement a function to remove duplicate elements from a list."
   ]
  },
  {
   "cell_type": "code",
   "execution_count": 16,
   "id": "e7f5579f",
   "metadata": {},
   "outputs": [
    {
     "name": "stdout",
     "output_type": "stream",
     "text": [
      "The given list is:-> [2, 1, 1, 2, 3, 4, 5, 3, 2, 1]\n",
      "The list without duplicates is [2, 1, 3, 4, 5]\n"
     ]
    }
   ],
   "source": [
    "#Solution:-\n",
    "\n",
    "def rev_duplicate(a):\n",
    "    print(\"The given list is:->\",a)\n",
    "    b = []\n",
    "    for ele in a:\n",
    "        if ele not in b:\n",
    "            b.append(ele)\n",
    "    print(f\"The list without duplicates is {b}\")\n",
    "a = [2,1,1,2,3,4,5,3,2,1]    \n",
    "rev_duplicate(a)            \n",
    "        "
   ]
  },
  {
   "cell_type": "markdown",
   "id": "d316fe8f",
   "metadata": {},
   "source": [
    "### 7. Write a program to calculate the factorial of a given number."
   ]
  },
  {
   "cell_type": "code",
   "execution_count": 18,
   "id": "142a5183",
   "metadata": {},
   "outputs": [
    {
     "name": "stdout",
     "output_type": "stream",
     "text": [
      "The factorial of given number 5 is 120\n"
     ]
    }
   ],
   "source": [
    "#Solution-\n",
    "\n",
    "def fact(a):\n",
    "    facto = 1\n",
    "    for ele in range(1,a+1):\n",
    "        facto = facto*ele\n",
    "    print(f\"The factorial of given number {a} is {facto}\")  \n",
    "a = 5\n",
    "fact(a)"
   ]
  },
  {
   "cell_type": "markdown",
   "id": "5113897c",
   "metadata": {},
   "source": [
    "### 8. Implement a function to check if a given number is prime."
   ]
  },
  {
   "cell_type": "code",
   "execution_count": 19,
   "id": "27bbb8e6",
   "metadata": {},
   "outputs": [
    {
     "name": "stdout",
     "output_type": "stream",
     "text": [
      "The given number 10 is prime number\n",
      "The guiven number 5 is not a prime number\n"
     ]
    }
   ],
   "source": [
    "#Solution:-\n",
    "\n",
    "def num(a):\n",
    "    if a%2 == 0:\n",
    "        print(f\"The given number {a} is prime number\")\n",
    "    else:\n",
    "        print(f\"The guiven number {a} is not a prime number\")\n",
    "        \n",
    "a = 10\n",
    "num(a)\n",
    "\n",
    "a = 5\n",
    "num(a)"
   ]
  },
  {
   "cell_type": "markdown",
   "id": "2296ceda",
   "metadata": {},
   "source": [
    "### 9. Write a Python program to sort a list of integers in ascending order."
   ]
  },
  {
   "cell_type": "code",
   "execution_count": 21,
   "id": "7e032674",
   "metadata": {},
   "outputs": [
    {
     "name": "stdout",
     "output_type": "stream",
     "text": [
      "The given list [100, 50, 500, 200] sortded in ascending order is [50, 100, 200, 500]\n"
     ]
    }
   ],
   "source": [
    "#Solution:-\n",
    "\n",
    "def ascen(a):\n",
    "    print(f\"The given list {a} sortded in ascending order is {sorted(a)}\")\n",
    "a = [100,50,500,200]\n",
    "ascen(a)"
   ]
  },
  {
   "cell_type": "markdown",
   "id": "a6c08c52",
   "metadata": {},
   "source": [
    "### 10. Implement a function to find the sum of all numbers in a list."
   ]
  },
  {
   "cell_type": "code",
   "execution_count": 22,
   "id": "1eec2309",
   "metadata": {},
   "outputs": [
    {
     "name": "stdout",
     "output_type": "stream",
     "text": [
      "The given list is:- [200, 500, 600]\n",
      "The sum of all number is 1300\n"
     ]
    }
   ],
   "source": [
    "#Solution:-\n",
    "\n",
    "def num_sum(a):\n",
    "    print(\"The given list is:-\",a)\n",
    "    num = 0\n",
    "    for i in a:\n",
    "        num = num + i\n",
    "    print(f\"The sum of all number is {num}\")\n",
    "a = [200,500,600]\n",
    "num_sum(a)"
   ]
  },
  {
   "cell_type": "markdown",
   "id": "0da85d42",
   "metadata": {},
   "source": [
    "### 11. Write a program to find the common elements between two lists"
   ]
  },
  {
   "cell_type": "code",
   "execution_count": 23,
   "id": "e2597abb",
   "metadata": {},
   "outputs": [
    {
     "name": "stdout",
     "output_type": "stream",
     "text": [
      "[10, 40, 60]\n",
      "[60, 30, 90]\n",
      "The common elements is [60]\n"
     ]
    }
   ],
   "source": [
    "#Solution:-\n",
    "\n",
    "def common_ele(a,b):\n",
    "    print(a)\n",
    "    print(b)\n",
    "    l1 = []\n",
    "    for i in a:\n",
    "        for j in b:\n",
    "            if i == j:\n",
    "                l1.append(i)\n",
    "    print(f\"The common elements is {l1}\")\n",
    "a = [10,40,60]\n",
    "b = [60,30,90]\n",
    "common_ele(a,b)"
   ]
  },
  {
   "cell_type": "markdown",
   "id": "47087a03",
   "metadata": {},
   "source": [
    "### 12. Implement a function to check if a given string is an anagram of another string.\n"
   ]
  },
  {
   "cell_type": "code",
   "execution_count": 31,
   "id": "304cccf3",
   "metadata": {},
   "outputs": [
    {
     "name": "stdout",
     "output_type": "stream",
     "text": [
      "The given string is:-> listen\n",
      "The given string is:-> silent\n",
      "The string listen and silent are anagram\n",
      "********************\n",
      "The given string is:-> ineuron\n",
      "The given string is:-> euronui\n",
      "The ineuron and euronui is not a anagram\n"
     ]
    }
   ],
   "source": [
    "#Solution:-\n",
    "\n",
    "def anagram(a,b):\n",
    "    print(\"The given string is:->\",a)\n",
    "    print(\"The given string is:->\",b)\n",
    "    if (sorted(a) == sorted(b)):\n",
    "        print(f\"The string {a} and {b} are anagram\")\n",
    "    else:\n",
    "        print(f\"The {a} and {b} is not a anagram\")\n",
    "a = \"listen\"\n",
    "b = \"silent\"\n",
    "anagram(a,b)\n",
    "\n",
    "print(\"*\"*20)\n",
    "\n",
    "a = \"ineuron\" \n",
    "b = \"euronui\"\n",
    "anagram(a,b)              "
   ]
  },
  {
   "cell_type": "markdown",
   "id": "471a948c",
   "metadata": {},
   "source": [
    "### 13. Write a Python program to generate all permutations of a given string"
   ]
  },
  {
   "cell_type": "code",
   "execution_count": 35,
   "id": "44b9d392",
   "metadata": {},
   "outputs": [
    {
     "name": "stdout",
     "output_type": "stream",
     "text": [
      "ROT\n",
      "RTO\n",
      "ORT\n",
      "OTR\n",
      "TOR\n",
      "TRO\n",
      "None\n"
     ]
    }
   ],
   "source": [
    "#Solution:-\n",
    "\n",
    "def permutation(string, i=0):\n",
    "\n",
    "    if i == len(string):   \t \n",
    "        print(\"\".join(string))\n",
    "\n",
    "    for j in range(i, len(string)):\n",
    "\n",
    "        words = [c for c in string]\n",
    "   \n",
    "        words[i], words[j] = words[j], words[i]\n",
    "    \n",
    "        permutation(words, i + 1)\n",
    "\n",
    "print(permutation('ROT'))\n",
    "    "
   ]
  },
  {
   "cell_type": "markdown",
   "id": "60004c98",
   "metadata": {},
   "source": [
    "### 14. Implement a function to calculate the Fibonacci sequence up to a given number of terms"
   ]
  },
  {
   "cell_type": "code",
   "execution_count": 36,
   "id": "fe152ae2",
   "metadata": {},
   "outputs": [
    {
     "name": "stdout",
     "output_type": "stream",
     "text": [
      "The given number for febonacci sequence is 8\n",
      "The febonacci sequence is 0 1 1 2 3 5 8 13 21 34 "
     ]
    }
   ],
   "source": [
    "#Solution:-\n",
    "\n",
    "def febo(a):\n",
    "    print(\"The given number for febonacci sequence is\",a)\n",
    "    fir = 0\n",
    "    sec = 1\n",
    "    print(\"The febonacci sequence is\",fir, sec,  end=\" \")\n",
    "    \n",
    "    for i in range(a):\n",
    "        new = fir + sec\n",
    "        print(new,end=\" \")\n",
    "        fir = sec\n",
    "        sec = new\n",
    "a = 8\n",
    "febo(a)"
   ]
  },
  {
   "cell_type": "markdown",
   "id": "e57a76e4",
   "metadata": {},
   "source": [
    "### 15. Write a program to find the median of a list of numbers."
   ]
  },
  {
   "cell_type": "code",
   "execution_count": 38,
   "id": "02d16fc4",
   "metadata": {},
   "outputs": [
    {
     "name": "stdout",
     "output_type": "stream",
     "text": [
      "The median of a [4, 5, 8, 9, 25, 30] of number is 8.5\n"
     ]
    }
   ],
   "source": [
    "#Solution:-\n",
    "import statistics\n",
    "def median_list(a):\n",
    "    print(f\"The median of a {a} of number is {statistics.median(a)}\")\n",
    "\n",
    "a = [4, 5, 8, 9, 25, 30]\n",
    "median_list(a)          \n",
    "    "
   ]
  },
  {
   "cell_type": "markdown",
   "id": "1d849beb",
   "metadata": {},
   "source": [
    "### 16. Implement a function to check if a given list is sorted in non-decreasing order."
   ]
  },
  {
   "cell_type": "code",
   "execution_count": 40,
   "id": "6498ba5d",
   "metadata": {},
   "outputs": [
    {
     "name": "stdout",
     "output_type": "stream",
     "text": [
      "The given list is:-> [4, 5, 8, 9, 25, 30]\n",
      "The given list [4, 5, 8, 9, 25, 30] is sorted in non-decreasing order\n",
      "The given list is:-> [30, 9, 35, 8]\n",
      "The given list [30, 9, 35, 8] is not sorted in non-decreasing order\n"
     ]
    }
   ],
   "source": [
    "#Solution:-\n",
    "\n",
    "def non_dec(a):\n",
    "    print(\"The given list is:->\",a)\n",
    "    b = sorted(a,reverse=False)\n",
    "    if a != b:\n",
    "        print(f\"The given list {a} is not sorted in non-decreasing order\")\n",
    "    else:\n",
    "        print(f\"The given list {a} is sorted in non-decreasing order\")\n",
    "a = [4, 5, 8, 9, 25, 30]\n",
    "non_dec(a)\n",
    "\n",
    "a = [30,9,35,8]\n",
    "non_dec(a)    "
   ]
  },
  {
   "cell_type": "markdown",
   "id": "5b78aa39",
   "metadata": {},
   "source": [
    "### 17. Write a Python program to find the intersection of two lists."
   ]
  },
  {
   "cell_type": "code",
   "execution_count": 43,
   "id": "e63f8a8a",
   "metadata": {},
   "outputs": [
    {
     "name": "stdout",
     "output_type": "stream",
     "text": [
      "The intersection of [15, 9, 10, 56, 23, 78, 5, 4, 9] and [9, 4, 5, 36, 47, 26, 10, 45, 87] is --> [9, 10, 5, 4, 9]\n"
     ]
    }
   ],
   "source": [
    "#Solution:-\n",
    "\n",
    "def intersection(a,b):\n",
    "    int_list  = []\n",
    "    for i in a:\n",
    "        for j in b:\n",
    "            if i == j:\n",
    "                int_list.append(i)\n",
    "    print(f\"The intersection of {a} and {b} is --> {int_list}\")\n",
    "    \n",
    "a = [15, 9, 10, 56, 23, 78, 5, 4, 9]\n",
    "b = [9, 4, 5, 36, 47, 26, 10, 45, 87]\n",
    "intersection(a,b)"
   ]
  },
  {
   "cell_type": "markdown",
   "id": "c0f828f4",
   "metadata": {},
   "source": [
    "###  18. Implement a function to find the maximum subarray sum in a given list"
   ]
  },
  {
   "cell_type": "code",
   "execution_count": 46,
   "id": "f002a700",
   "metadata": {},
   "outputs": [
    {
     "name": "stdout",
     "output_type": "stream",
     "text": [
      "Maximum SubArray is: 14\n"
     ]
    }
   ],
   "source": [
    "#Solution:-\n",
    "\n",
    "def subarray(a):\n",
    "    max_sum = 0\n",
    "    current_sum = 0\n",
    "    for i in a: \n",
    "        current_sum = current_sum + i\n",
    "        if current_sum < 0:\n",
    "            current_sum = 0\n",
    "        if max_sum < current_sum:\n",
    "            max_sum = current_sum\n",
    "    return max_sum\n",
    "  \n",
    "               \n",
    "a = [-3, 1, -8, 12, 0, -3, 5, -9, 4]\n",
    "print(\"Maximum SubArray is:\",subarray(a))"
   ]
  },
  {
   "cell_type": "markdown",
   "id": "8cdd84a5",
   "metadata": {},
   "source": [
    "### 19. Write a program to remove all vowels from a given string"
   ]
  },
  {
   "cell_type": "code",
   "execution_count": 48,
   "id": "e5d5ed7b",
   "metadata": {},
   "outputs": [
    {
     "name": "stdout",
     "output_type": "stream",
     "text": [
      "All the vowel --> ['i', 'e', 'u', 'o']\n"
     ]
    }
   ],
   "source": [
    "#Solution:-\n",
    "\n",
    "def rem_vow(a):\n",
    "    b = \"a,e,i,o,u\"\n",
    "    l1 = []\n",
    "    for i in a:\n",
    "        if i  in b:\n",
    "            l1.append(i)\n",
    "    print(f\"All the vowel --> {l1}\")\n",
    "a = \"ineuron\"\n",
    "rem_vow(a)     "
   ]
  },
  {
   "cell_type": "markdown",
   "id": "3a4c79af",
   "metadata": {},
   "source": [
    "### 20. Implement a function to reverse the order of words in a given sentence."
   ]
  },
  {
   "cell_type": "code",
   "execution_count": 50,
   "id": "739aff18",
   "metadata": {},
   "outputs": [
    {
     "name": "stdout",
     "output_type": "stream",
     "text": [
      "given word string\n",
      "reverse word--> gnirts\n"
     ]
    }
   ],
   "source": [
    "#Solution:-\n",
    "\n",
    "def rev(a):\n",
    "    print(\"given word\",a)\n",
    "    print(\"reverse word-->\",a[::-1])\n",
    "a = \"string\"\n",
    "rev(a)"
   ]
  },
  {
   "cell_type": "markdown",
   "id": "5b97859c",
   "metadata": {},
   "source": [
    "### 21. Write a Python program to check if two strings are anagrams of each other."
   ]
  },
  {
   "cell_type": "code",
   "execution_count": 51,
   "id": "3e09dc0b",
   "metadata": {},
   "outputs": [
    {
     "name": "stdout",
     "output_type": "stream",
     "text": [
      "The given string is:-> listen\n",
      "The given string is:-> silent\n",
      "The string listen and silent are anagram\n",
      "********************\n",
      "The given string is:-> ineuron\n",
      "The given string is:-> euronui\n",
      "The ineuron and euronui is not a anagram\n"
     ]
    }
   ],
   "source": [
    "#solution:-\n",
    "\n",
    "def anagram(a,b):\n",
    "    print(\"The given string is:->\",a)\n",
    "    print(\"The given string is:->\",b)\n",
    "    if (sorted(a) == sorted(b)):\n",
    "        print(f\"The string {a} and {b} are anagram\")\n",
    "    else:\n",
    "        print(f\"The {a} and {b} is not a anagram\")\n",
    "a = \"listen\"\n",
    "b = \"silent\"\n",
    "anagram(a,b)\n",
    "\n",
    "print(\"*\"*20)\n",
    "\n",
    "a = \"ineuron\" \n",
    "b = \"euronui\"\n",
    "anagram(a,b) \n",
    "    "
   ]
  },
  {
   "cell_type": "markdown",
   "id": "c5836d69",
   "metadata": {},
   "source": [
    "### 22. Implement a function to find the first non-repeating character in a string"
   ]
  },
  {
   "cell_type": "code",
   "execution_count": 54,
   "id": "6a28649a",
   "metadata": {},
   "outputs": [
    {
     "name": "stdout",
     "output_type": "stream",
     "text": [
      "First non-repeating character is p\n"
     ]
    }
   ],
   "source": [
    "#Solution:-\n",
    "\n",
    "def First_non_repeat(s):\n",
    " \n",
    "    for i in s:\n",
    " \n",
    "        if (s.find(i, (s.find(i)+1))) == -1:\n",
    " \n",
    "            print(\"First non-repeating character is\", i)\n",
    " \n",
    "            break\n",
    " \n",
    "    return\n",
    " \n",
    "\n",
    " \n",
    " \n",
    "s = 'python and data science'\n",
    " \n",
    "First_non_repeat(s)"
   ]
  },
  {
   "cell_type": "markdown",
   "id": "3a29fbf5",
   "metadata": {},
   "source": [
    "### 23. Write a program to find the prime factors of a given number."
   ]
  },
  {
   "cell_type": "code",
   "execution_count": 55,
   "id": "789dd2d8",
   "metadata": {},
   "outputs": [
    {
     "name": "stdout",
     "output_type": "stream",
     "text": [
      "2\n",
      "2\n",
      "2\n",
      "5\n",
      "5\n"
     ]
    }
   ],
   "source": [
    "#Solution:-\n",
    "\n",
    "import math    \n",
    "def prime_factors(num):  \n",
    "    \n",
    "    while num % 2 == 0:  \n",
    "        print(2,)  \n",
    "        num = num / 2  \n",
    "  \n",
    "    for i in range(3, int(math.sqrt(num)) + 1, 2):  \n",
    "  \n",
    "          \n",
    "        while num % i == 0:  \n",
    "            print(i,)  \n",
    "            num = num / i  \n",
    "    if num > 2:  \n",
    "        print(num)  \n",
    "   \n",
    "  \n",
    "num = 200  \n",
    "prime_factors(num)"
   ]
  },
  {
   "cell_type": "markdown",
   "id": "5ac2b52c",
   "metadata": {},
   "source": [
    "### 24. Implement a function to check if a given number is a power of two."
   ]
  },
  {
   "cell_type": "code",
   "execution_count": 56,
   "id": "b624dd69",
   "metadata": {},
   "outputs": [
    {
     "name": "stdout",
     "output_type": "stream",
     "text": [
      "Enter a number: 4\n",
      "4 is a power of two.\n"
     ]
    }
   ],
   "source": [
    "#Solution:-\n",
    "\n",
    "def is_power_of_two(n):\n",
    "   \n",
    "    if n <= 0:\n",
    "        return False\n",
    "    else:\n",
    "        return n & (n - 1) == 0\n",
    " \n",
    " \n",
    "n = int(input('Enter a number: '))\n",
    " \n",
    "if is_power_of_two(n):\n",
    "    print('{} is a power of two.'.format(n))\n",
    "else:\n",
    "    print('{} is not a power of two.'.format(n))"
   ]
  },
  {
   "cell_type": "markdown",
   "id": "336d6abb",
   "metadata": {},
   "source": [
    "### 25. Write a Python program to merge two sorted lists into a single sorted list.\n"
   ]
  },
  {
   "cell_type": "code",
   "execution_count": 60,
   "id": "8e3a0cbc",
   "metadata": {},
   "outputs": [
    {
     "name": "stdout",
     "output_type": "stream",
     "text": [
      "[1, 3, 4, 5, 6, 7, 8, 9, 10, 11]\n"
     ]
    }
   ],
   "source": [
    "#Solution:-\n",
    "\n",
    "def merge(a,b):\n",
    "    c = sorted(a + b)\n",
    "    print ((c))\n",
    "a = [1, 5, 6, 9, 11]\n",
    "b = [3, 4, 7, 8, 10]    \n",
    "merge(a,b)"
   ]
  },
  {
   "cell_type": "markdown",
   "id": "6176ca28",
   "metadata": {},
   "source": [
    "### 26. Implement a function to find the mode of a list of numbers"
   ]
  },
  {
   "cell_type": "code",
   "execution_count": 62,
   "id": "857c0fc0",
   "metadata": {},
   "outputs": [
    {
     "name": "stdout",
     "output_type": "stream",
     "text": [
      "The median of a [4, 5, 8, 5, 8, 3, 5] of number is 5\n"
     ]
    }
   ],
   "source": [
    "#Solution:-\n",
    "\n",
    "import statistics\n",
    "def mode_list(a):\n",
    "    print(f\"The median of a {a} of number is {statistics.mode(a)}\")\n",
    "\n",
    "a = [4, 5, 8, 5,8,3,5]\n",
    "mode_list(a)"
   ]
  },
  {
   "cell_type": "markdown",
   "id": "9ac93ade",
   "metadata": {},
   "source": [
    "### 27. Write a program to find the greatest common divisor (GCD) of two numbers.\n"
   ]
  },
  {
   "cell_type": "code",
   "execution_count": 65,
   "id": "402f8aec",
   "metadata": {},
   "outputs": [
    {
     "name": "stdout",
     "output_type": "stream",
     "text": [
      "GCD of 36 and 60 is--> 12\n"
     ]
    }
   ],
   "source": [
    "#Solution:-\n",
    "def gcd(a,b):\n",
    "\n",
    "    gcd = 1\n",
    "\n",
    "    for i in range(1, min(a, b)):\n",
    "        if a % i == 0 and b % i == 0:\n",
    "            gcd = i\n",
    "    print(\"GCD of\", a, \"and\", b, \"is-->\", gcd)\n",
    "a = 36\n",
    "b = 60\n",
    "gcd(a,b)"
   ]
  },
  {
   "cell_type": "markdown",
   "id": "3a89a52e",
   "metadata": {},
   "source": [
    "### 28. Implement a function to calculate the square root of a given number."
   ]
  },
  {
   "cell_type": "code",
   "execution_count": 67,
   "id": "ec7e3ea4",
   "metadata": {},
   "outputs": [
    {
     "name": "stdout",
     "output_type": "stream",
     "text": [
      "The square root of 16 is 4.0\n"
     ]
    }
   ],
   "source": [
    "#Solution:-\n",
    "import math\n",
    "def sq_root(a):\n",
    "    b = math.sqrt(a)\n",
    "    print(f\"The square root of {a} is {b}\")\n",
    "a = 16\n",
    "sq_root(a)\n",
    "      \n",
    "    "
   ]
  },
  {
   "cell_type": "markdown",
   "id": "df657ab7",
   "metadata": {},
   "source": [
    "### 29. Write a Python program to check if a given string is a valid palindrome ignoring non-alphanumeric characters."
   ]
  },
  {
   "cell_type": "code",
   "execution_count": 68,
   "id": "cd33225d",
   "metadata": {},
   "outputs": [
    {
     "name": "stdout",
     "output_type": "stream",
     "text": [
      "Given string is:- malayalam\n",
      "The given string malayalam is palindrome\n",
      "Given string is:- ineuron\n",
      "The given string is ineuron is not palindrome\n"
     ]
    }
   ],
   "source": [
    "#Solution:-\n",
    "\n",
    "def palin(a):\n",
    "    print(\"Given string is:-\",a)\n",
    "    b = a[::-1]\n",
    "    if b == a:\n",
    "        print(f\"The given string {a} is palindrome\")\n",
    "    else:\n",
    "        print(f\"The given string is {a} is not palindrome\")\n",
    "a = \"malayalam\" \n",
    "palin(a) \n",
    "\n",
    "a = \"ineuron\"\n",
    "palin(a)"
   ]
  },
  {
   "cell_type": "markdown",
   "id": "e95a7190",
   "metadata": {},
   "source": [
    "### 30. Implement a function to find the minimum element in a rotated sorted list."
   ]
  },
  {
   "cell_type": "code",
   "execution_count": 69,
   "id": "eea67bb6",
   "metadata": {},
   "outputs": [
    {
     "name": "stdout",
     "output_type": "stream",
     "text": [
      "The minimum element in a rotated sorted of [100, 70, 200, 20] is 20\n"
     ]
    }
   ],
   "source": [
    "#Solution:-\n",
    "\n",
    "def rotated(a):\n",
    "    print(f\"The minimum element in a rotated sorted of {a} is {sorted(a)[0]}\")\n",
    "a = [100,70,200,20]\n",
    "rotated(a)"
   ]
  },
  {
   "cell_type": "markdown",
   "id": "03777720",
   "metadata": {},
   "source": [
    "### 31. Write a program to find the sum of all even numbers in a list."
   ]
  },
  {
   "cell_type": "code",
   "execution_count": 70,
   "id": "128fd854",
   "metadata": {},
   "outputs": [
    {
     "name": "stdout",
     "output_type": "stream",
     "text": [
      "The sum of elements of [50, 50, 100] is 200\n"
     ]
    }
   ],
   "source": [
    "#SOlution:-\n",
    "\n",
    "def addition(a):\n",
    "    addi = 0\n",
    "    for i in a:\n",
    "        addi = addi + i\n",
    "    print(f\"The sum of elements of {a} is {addi}\")\n",
    "a = [50,50,100] \n",
    "addition(a)"
   ]
  },
  {
   "cell_type": "markdown",
   "id": "896dd644",
   "metadata": {},
   "source": [
    "### 32. Implement a function to calculate the power of a number using recursion"
   ]
  },
  {
   "cell_type": "code",
   "execution_count": 72,
   "id": "2b2bdcf9",
   "metadata": {},
   "outputs": [
    {
     "name": "stdout",
     "output_type": "stream",
     "text": [
      "2 to the power 3 is--> 8\n"
     ]
    }
   ],
   "source": [
    "#Solution:-\n",
    "\n",
    "def power(a, b):\n",
    "    if b != 0:\n",
    "        return a * power(a, b - 1)\n",
    "    else:\n",
    "        return 1\n",
    "\n",
    "\n",
    "a = 2\n",
    "b = 3\n",
    "print(a, \"to the power\", b, \"is-->\", power(a, b))   "
   ]
  },
  {
   "cell_type": "markdown",
   "id": "bbf37ddb",
   "metadata": {},
   "source": [
    "### 33. Write a Python program to remove duplicates from a list while preserving the order."
   ]
  },
  {
   "cell_type": "code",
   "execution_count": 74,
   "id": "6269c3f9",
   "metadata": {},
   "outputs": [
    {
     "name": "stdout",
     "output_type": "stream",
     "text": [
      "[0, 4, 1, 2, 3, 5]\n"
     ]
    }
   ],
   "source": [
    "#Solution:-\n",
    "\n",
    "def rev(a):\n",
    "    for i in a:\n",
    "        if a.count(i) > 1:\n",
    "            a.remove(i)\n",
    "    print(a)\n",
    "    \n",
    "a = [0, 1, 2, 3, 4, 1, 2, 3, 5]\n",
    "rev(a)"
   ]
  },
  {
   "cell_type": "markdown",
   "id": "21c19d4e",
   "metadata": {},
   "source": [
    "### 34. Implement a function to find the longest common prefix among a list of strings"
   ]
  },
  {
   "cell_type": "code",
   "execution_count": 80,
   "id": "c6363ee5",
   "metadata": {},
   "outputs": [
    {
     "name": "stdout",
     "output_type": "stream",
     "text": [
      "('The longest common prefix is -->', 'car')\n",
      "('The longest common prefix is -->', 'car')\n"
     ]
    }
   ],
   "source": [
    "#Solution:-\n",
    "\n",
    "def lcp(my_str):\n",
    "    if my_str == []:\n",
    "        return ''\n",
    "    if len(my_str) == 1:\n",
    "        return my_str[0]\n",
    "    my_str.sort()\n",
    "    shortest = my_str[0]\n",
    "    prefix = ''\n",
    "    for i in range(len(shortest)):\n",
    "        if my_str[len(my_str) - 1][i] == shortest[i]:\n",
    "            prefix += my_str[len(my_str) - 1][i]\n",
    "        else:\n",
    "            break\n",
    "    return (\"The longest common prefix is -->\",prefix)\n",
    "\n",
    "my_list_1 = ['car', 'carbon', 'carvehicle']\n",
    "my_list_2 = ['car', 'carbon', 'carbonmonoxide']\n",
    "\n",
    "\n",
    "print(lcp(my_list_1))\n",
    "print(lcp(my_list_2))"
   ]
  },
  {
   "cell_type": "markdown",
   "id": "73126993",
   "metadata": {},
   "source": [
    "### 35. Write a program to check if a given number is a perfect square"
   ]
  },
  {
   "cell_type": "code",
   "execution_count": 83,
   "id": "fab5737b",
   "metadata": {},
   "outputs": [
    {
     "name": "stdout",
     "output_type": "stream",
     "text": [
      "25 is a perfect square.\n",
      "********************\n",
      "30 is not a perfect square.\n"
     ]
    }
   ],
   "source": [
    "#Solution:-\n",
    "\n",
    "def num(n):\n",
    "    root = math.sqrt(n)\n",
    "    if int(root + 0.5) ** 2 == n:\n",
    "        print(n, \"is a perfect square.\")\n",
    "    else:\n",
    "        print(n, \"is not a perfect square.\")\n",
    "n = 25\n",
    "num(n)\n",
    "print(\"*\"*20)\n",
    "\n",
    "n = 30\n",
    "num(n)"
   ]
  },
  {
   "cell_type": "markdown",
   "id": "91af52ca",
   "metadata": {},
   "source": [
    "### 36. Implement a function to calculate the product of all elements in a list."
   ]
  },
  {
   "cell_type": "code",
   "execution_count": 85,
   "id": "bf17047f",
   "metadata": {},
   "outputs": [
    {
     "name": "stdout",
     "output_type": "stream",
     "text": [
      "The product of the list elements is --> 120\n"
     ]
    }
   ],
   "source": [
    "#Solution:\n",
    "\n",
    "def prod(n):\n",
    "    mul = 1\n",
    "    for i in n:\n",
    "        mul = mul*i\n",
    "    print (\"The product of the list elements is -->\",mul)\n",
    "n = [1,2,3,4,5]\n",
    "prod(n)"
   ]
  },
  {
   "cell_type": "markdown",
   "id": "de0ec225",
   "metadata": {},
   "source": [
    "### 37. Write a Python program to reverse the order of words in a sentence while preserving the word order."
   ]
  },
  {
   "cell_type": "code",
   "execution_count": 91,
   "id": "ce11e901",
   "metadata": {},
   "outputs": [
    {
     "name": "stdout",
     "output_type": "stream",
     "text": [
      "The reverse of the word ineuron is --> norueni\n"
     ]
    }
   ],
   "source": [
    "#Solution:-\n",
    "\n",
    "def rev(a):\n",
    "    print(f\"The reverse of the word {a} is --> {(a[::-1])}\")\n",
    "a = \"ineuron\"\n",
    "rev(a)"
   ]
  },
  {
   "cell_type": "markdown",
   "id": "0d2b1273",
   "metadata": {},
   "source": [
    "### 38. Implement a function to find the missing number in a given list of consecutive numbers."
   ]
  },
  {
   "cell_type": "code",
   "execution_count": 96,
   "id": "9b8a6c35",
   "metadata": {},
   "outputs": [
    {
     "name": "stdout",
     "output_type": "stream",
     "text": [
      "The missing number in a given list is [8]\n"
     ]
    }
   ],
   "source": [
    "#Solution:-\n",
    "\n",
    "def missing(n):\n",
    "    l1 = []\n",
    "    for i in range(1,len(n)+1):\n",
    "        if i not in n:\n",
    "            l1.append(i)\n",
    "    print(f\"The missing number in a given list is {l1}\")\n",
    "n = [1, 2, 3, 4, 5, 6, 7, 9]\n",
    "missing(n)\n",
    "            "
   ]
  },
  {
   "cell_type": "markdown",
   "id": "6daf3a2a",
   "metadata": {},
   "source": [
    "### 39. Write a program to find the sum of digits of a given number."
   ]
  },
  {
   "cell_type": "code",
   "execution_count": 97,
   "id": "c3ce4246",
   "metadata": {},
   "outputs": [
    {
     "name": "stdout",
     "output_type": "stream",
     "text": [
      "The sum of digit 0 is --> 21\n"
     ]
    }
   ],
   "source": [
    "#Solution:\n",
    "\n",
    "def sum_d(n):\n",
    "    addi = 0\n",
    "    while (n>0):\n",
    "        dig = n%10\n",
    "        addi = addi+dig\n",
    "        n = n//10\n",
    "    print(f\"The sum of digit {n} is --> {addi}\")\n",
    "n = 1992\n",
    "sum_d(n)"
   ]
  },
  {
   "cell_type": "markdown",
   "id": "9aa69222",
   "metadata": {},
   "source": [
    "### 40. Implement a function to check if a given string is a valid palindrome considering case sensitivity.\n"
   ]
  },
  {
   "cell_type": "code",
   "execution_count": 100,
   "id": "570e7b8f",
   "metadata": {},
   "outputs": [
    {
     "name": "stdout",
     "output_type": "stream",
     "text": [
      "the string KoyaL is not palindorme\n",
      "the string Kayak is not palindorme\n"
     ]
    }
   ],
   "source": [
    "#Solution:-\n",
    "\n",
    "def palin(a):\n",
    "    b = a.lower()\n",
    "    \n",
    "    if a == b:\n",
    "        print(f\"the {a} string is palindrome\")\n",
    "    else:\n",
    "        print(f\"the string {a} is not palindorme\")\n",
    "a = \"KoyaL\"\n",
    "palin(a) \n",
    "\n",
    "a = \"Kayak\"\n",
    "palin(a)"
   ]
  },
  {
   "cell_type": "markdown",
   "id": "d5f25e22",
   "metadata": {},
   "source": [
    "### 41. Write a Python program to find the smallest missing positive integer in a list."
   ]
  },
  {
   "cell_type": "code",
   "execution_count": 105,
   "id": "39fd4584",
   "metadata": {},
   "outputs": [
    {
     "name": "stdout",
     "output_type": "stream",
     "text": [
      "The smallest positive missing number in the array is: 3\n"
     ]
    }
   ],
   "source": [
    "#Solution:-\n",
    "\n",
    "def findNum(arr, n):\n",
    "    for i in range(1, n+1):  \n",
    "        flag = False\n",
    "\n",
    "        for j in range(n-1):  \n",
    "            if arr[j] == i:\n",
    "                flag = True\n",
    "                break\n",
    "        if flag == False:\n",
    "            return i\n",
    "\n",
    "\n",
    "arr = [-2, 2, 1, -3, 2, 10, 0]\n",
    "length = len(arr)\n",
    "res = findNum(arr, length)\n",
    "print(\"The smallest positive missing number in the array is:\",res)        "
   ]
  },
  {
   "cell_type": "markdown",
   "id": "956c45b5",
   "metadata": {},
   "source": [
    "### 42. Implement a function to find the longest palindrome substring in a given string."
   ]
  },
  {
   "cell_type": "code",
   "execution_count": 106,
   "id": "14903e03",
   "metadata": {},
   "outputs": [
    {
     "name": "stdout",
     "output_type": "stream",
     "text": [
      "madam\n"
     ]
    }
   ],
   "source": [
    "#Solution:\n",
    "\n",
    "def find_longest_palindrome(s):\n",
    "    longest = ''\n",
    "    n = len(s)\n",
    "    for i in range(n):\n",
    "        for j in range(i+1,n+1):\n",
    "            word = s[i:j]\n",
    "            if word == word[::-1]:\n",
    "                if len(word)>len(longest):\n",
    "                    longest = word          \n",
    "    return longest\n",
    "print(find_longest_palindrome('locoannamadam'))"
   ]
  },
  {
   "cell_type": "markdown",
   "id": "b265030a",
   "metadata": {},
   "source": [
    "### 43. Write a program to find the number of occurrences of a given element in a list.\n"
   ]
  },
  {
   "cell_type": "code",
   "execution_count": 108,
   "id": "b5019587",
   "metadata": {},
   "outputs": [
    {
     "name": "stdout",
     "output_type": "stream",
     "text": [
      "{1: 1, 2: 2, 4: 2, 3: 1}\n"
     ]
    }
   ],
   "source": [
    "#Solution:-\n",
    "\n",
    "def occurence(n):\n",
    "    d = {}\n",
    "    for i in n:\n",
    "        if i in d:\n",
    "            d[i] += 1\n",
    "        else:\n",
    "            d[i] = 1\n",
    "    print(d)        \n",
    "a = [1,2,4,3,2,4]\n",
    "occurence(a)"
   ]
  },
  {
   "cell_type": "markdown",
   "id": "2bd4e6d1",
   "metadata": {},
   "source": [
    "### 44. Implement a function to check if a given number is a perfect number"
   ]
  },
  {
   "cell_type": "code",
   "execution_count": 112,
   "id": "57ee9bb0",
   "metadata": {},
   "outputs": [
    {
     "name": "stdout",
     "output_type": "stream",
     "text": [
      "The entered number 6 is a perfect number\n",
      "********************\n",
      "The entered number 25 is not a perfect number\n"
     ]
    }
   ],
   "source": [
    "#Solution:-\n",
    "\n",
    "def perfect(n):\n",
    "  \n",
    "    sum_v=0  \n",
    "    for i in range(1,n):  \n",
    "        if (n%i==0):  \n",
    "            sum_v=sum_v+i  \n",
    "    if(sum_v==n):  \n",
    "        print(f\"The entered number {n} is a perfect number\")  \n",
    "    else:  \n",
    "        print(f\"The entered number {n} is not a perfect number\")  \n",
    "n = 6\n",
    "perfect(n)\n",
    "\n",
    "print(\"*\"*20)\n",
    "\n",
    "n=25\n",
    "perfect(n)"
   ]
  },
  {
   "cell_type": "markdown",
   "id": "322ddfae",
   "metadata": {},
   "source": [
    "### 45. Write a Python program to remove all duplicates from a string."
   ]
  },
  {
   "cell_type": "code",
   "execution_count": 116,
   "id": "3721ecc8",
   "metadata": {},
   "outputs": [
    {
     "name": "stdout",
     "output_type": "stream",
     "text": [
      "string after removing of all duplicates is --> godfr\n"
     ]
    }
   ],
   "source": [
    "#Solution:-\n",
    "\n",
    "def dup(a):\n",
    "    p=\"\"\n",
    "    for char in a:\n",
    "        if char not in p:\n",
    "            p=p+char\n",
    "    print(f\"string after removing of all duplicates is --> {p}\")\n",
    "a=list(\"goodforgood\")\n",
    "dup(a)"
   ]
  },
  {
   "cell_type": "markdown",
   "id": "4f14e8c0",
   "metadata": {},
   "source": [
    "### 46. Implement a function to find the first missing positive"
   ]
  },
  {
   "cell_type": "code",
   "execution_count": 120,
   "id": "370f76fa",
   "metadata": {},
   "outputs": [
    {
     "name": "stdout",
     "output_type": "stream",
     "text": [
      "4\n"
     ]
    }
   ],
   "source": [
    "#Solution:-\n",
    "\n",
    "def fmp(nums):\n",
    "    n = 1\n",
    "    s = set(nums)\n",
    "    while n in s:\n",
    "        n += 1\n",
    "    return n\n",
    "print(fmp([1,2, 3, 7, 6, 8, -1, -10, 15, 16]))"
   ]
  }
 ],
 "metadata": {
  "kernelspec": {
   "display_name": "Python 3 (ipykernel)",
   "language": "python",
   "name": "python3"
  },
  "language_info": {
   "codemirror_mode": {
    "name": "ipython",
    "version": 3
   },
   "file_extension": ".py",
   "mimetype": "text/x-python",
   "name": "python",
   "nbconvert_exporter": "python",
   "pygments_lexer": "ipython3",
   "version": "3.10.9"
  }
 },
 "nbformat": 4,
 "nbformat_minor": 5
}
